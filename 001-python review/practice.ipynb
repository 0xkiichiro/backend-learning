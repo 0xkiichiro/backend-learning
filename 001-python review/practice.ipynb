{
 "cells": [
  {
   "cell_type": "markdown",
   "metadata": {},
   "source": [
    "## Practice"
   ]
  },
  {
   "cell_type": "code",
   "execution_count": 43,
   "metadata": {},
   "outputs": [
    {
     "name": "stdout",
     "output_type": "stream",
     "text": [
      "Its's hot drink water!\n",
      "Enjoy your day!\n"
     ]
    }
   ],
   "source": [
    "is_hot = True\n",
    "is_cold = False\n",
    "\n",
    "if is_hot:\n",
    "    print(\"Its's hot drink water!\")\n",
    "elif is_cold:\n",
    "    print(\"It's cold, layer up!\")\n",
    "else:\n",
    "    print(\"It's a wonderful day\"),\n",
    "print(\"Enjoy your day!\")"
   ]
  },
  {
   "cell_type": "markdown",
   "metadata": {},
   "source": [
    "# If / Else Statements"
   ]
  },
  {
   "cell_type": "code",
   "execution_count": 60,
   "metadata": {},
   "outputs": [
    {
     "name": "stdout",
     "output_type": "stream",
     "text": [
      "200 thousand dollars\n"
     ]
    }
   ],
   "source": [
    "has_good_credit = False\n",
    "price = 1000000\n",
    "\n",
    "if has_good_credit:\n",
    "    downpayment = price * 0.10\n",
    "else:\n",
    "    downpayment = price * 0.20\n",
    "print(f\"{str(int(downpayment/1000))} thousand dollars\")"
   ]
  },
  {
   "cell_type": "markdown",
   "metadata": {},
   "source": [
    "# & | Logical Operators\n",
    "\n",
    "AND: both should be true\n",
    "OR: one should be true\n",
    "NOT: changes thee bool value"
   ]
  },
  {
   "cell_type": "code",
   "execution_count": 68,
   "metadata": {},
   "outputs": [
    {
     "name": "stdout",
     "output_type": "stream",
     "text": [
      "Eligible for loan\n",
      "Eligible for loan\n",
      "Eligible for loan\n"
     ]
    }
   ],
   "source": [
    "has_good_credit = True\n",
    "has_high_income = True\n",
    "has_criminal_record = False\n",
    "\n",
    "if has_good_credit & has_high_income:\n",
    "    print(\"Eligible for loan\")\n",
    "\n",
    "if has_good_credit and has_high_income:\n",
    "    print(\"Eligible for loan\")\n",
    "\n",
    "if has_good_credit and has_high_income and not has_criminal_record:\n",
    "    print(\"Eligible for loan\")"
   ]
  },
  {
   "cell_type": "markdown",
   "metadata": {},
   "source": [
    "# Operators ==, >, <, =>, =<, !="
   ]
  },
  {
   "cell_type": "code",
   "execution_count": 71,
   "metadata": {},
   "outputs": [
    {
     "name": "stdout",
     "output_type": "stream",
     "text": [
      "it's hot!\n"
     ]
    }
   ],
   "source": [
    "temp = 35\n",
    "\n",
    "if(temp > 30):\n",
    "    print(\"it's hot!\")\n",
    "else:\n",
    "    print(\"it's not hot!\")"
   ]
  },
  {
   "cell_type": "code",
   "execution_count": 73,
   "metadata": {},
   "outputs": [
    {
     "name": "stdout",
     "output_type": "stream",
     "text": [
      "Welcome\n"
     ]
    }
   ],
   "source": [
    "name = input(\"Enter your name\")\n",
    "if len(name)>20:\n",
    "    print(\"Name can be at most 20 characters\")\n",
    "if len(name)<=3:\n",
    "    print(\"name has to be longer than 3 characters!\")\n",
    "else:\n",
    "    print(\"Welcome\")"
   ]
  }
 ],
 "metadata": {
  "kernelspec": {
   "display_name": "Python 3.9.12 ('base')",
   "language": "python",
   "name": "python3"
  },
  "language_info": {
   "codemirror_mode": {
    "name": "ipython",
    "version": 3
   },
   "file_extension": ".py",
   "mimetype": "text/x-python",
   "name": "python",
   "nbconvert_exporter": "python",
   "pygments_lexer": "ipython3",
   "version": "3.9.12"
  },
  "orig_nbformat": 4,
  "vscode": {
   "interpreter": {
    "hash": "0d4602a866995b912897f3ab2b391c835cc84a8b3c7f2e2f2cbc6bb32a735295"
   }
  }
 },
 "nbformat": 4,
 "nbformat_minor": 2
}
