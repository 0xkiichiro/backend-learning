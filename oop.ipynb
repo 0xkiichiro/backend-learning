{
 "cells": [
  {
   "cell_type": "code",
   "execution_count": 3,
   "metadata": {},
   "outputs": [
    {
     "name": "stdout",
     "output_type": "stream",
     "text": [
      "-------------------------\n",
      "0xkiichiro\n",
      "developer\n",
      "-------------------------\n"
     ]
    }
   ],
   "source": [
    "print(\"-\"*25)\n",
    "\n",
    "# def print_types(data):\n",
    "#     for i in data:\n",
    "#         print(i, type(i))\n",
    "\n",
    "# test = [122, \"0xkiichiro\", [1,2,3], (1,2,3), {1,2,3}, True, lambda x:x]\n",
    "\n",
    "# print_types(test)\n",
    "\n",
    "# class names start with capital letter\n",
    "class Person:\n",
    "    name = \"0xkiichiro\"\n",
    "    birth_year = 1995\n",
    "\n",
    "# to create a object from this class\n",
    "person1 = Person()\n",
    "person2 = Person()\n",
    "\n",
    "print(person1.name)\n",
    "\n",
    "Person.job = \"developer\"\n",
    "\n",
    "print(person2.job)\n",
    "\n",
    "print(\"-\"*25)"
   ]
  },
  {
   "cell_type": "code",
   "execution_count": 5,
   "metadata": {},
   "outputs": [
    {
     "name": "stdout",
     "output_type": "stream",
     "text": [
      "1995\n",
      "2002\n"
     ]
    }
   ],
   "source": [
    "# class names start with capital letter\n",
    "class Person:\n",
    "    name = \"0xkiichiro\"\n",
    "    birth_year = 1995\n",
    "\n",
    "# to create a object from this class\n",
    "person1 = Person()\n",
    "person2 = Person()\n",
    "\n",
    "person1.location = \"Amsterdam\"\n",
    "person2.birth_year = 2002\n",
    "# this istance takes the value straight from the Person class => class attribute\n",
    "print(person1.birth_year) \n",
    "# overwrites on the initial Person class => instance attribute\n",
    "print(person2.birth_year)"
   ]
  },
  {
   "cell_type": "code",
   "execution_count": 37,
   "metadata": {},
   "outputs": [
    {
     "name": "stdout",
     "output_type": "stream",
     "text": [
      "test\n",
      "0xkiichiro 26\n",
      "oi\n"
     ]
    }
   ],
   "source": [
    "class Person:\n",
    "    company = \"Yuga Labs\"\n",
    "    # must add self in the arguments part of methods in classes and insert the instance name in the arg when firing the fx\n",
    "    def test(self):\n",
    "        print(\"test\")\n",
    "    def set_details(self, name, age):\n",
    "        self.name = name\n",
    "        self.age = age\n",
    "    def get_details(self):\n",
    "        print(self.name, self.age)\n",
    "    @staticmethod\n",
    "    def salute():\n",
    "        print(\"oi\")\n",
    "\n",
    "person1 = Person()\n",
    "\n",
    "# => this is not how to fire functions of class instances (methods) we would get an error\n",
    "# person1.test() \n",
    "\n",
    "Person.test(person1)\n",
    "Person.set_details(person1, \"0xkiichiro\", \"26\")\n",
    "Person.get_details(person1)\n",
    "person1.salute()"
   ]
  },
  {
   "cell_type": "code",
   "execution_count": 48,
   "metadata": {},
   "outputs": [
    {
     "data": {
      "text/plain": [
       "27"
      ]
     },
     "execution_count": 48,
     "metadata": {},
     "output_type": "execute_result"
    }
   ],
   "source": [
    "from datetime import date\n",
    "\n",
    "class Person:\n",
    "    birth_year = 1995\n",
    "    def calculate_age(self):\n",
    "        return date.today().year - Person.birth_year\n",
    "\n",
    "person1 = Person()\n",
    "Person.calculate_age(person1)\n",
    "\n",
    "\n",
    "#constructor methodları pythonda init olarak geciyor!"
   ]
  }
 ],
 "metadata": {
  "kernelspec": {
   "display_name": "Python 3.9.12 ('base')",
   "language": "python",
   "name": "python3"
  },
  "language_info": {
   "codemirror_mode": {
    "name": "ipython",
    "version": 3
   },
   "file_extension": ".py",
   "mimetype": "text/x-python",
   "name": "python",
   "nbconvert_exporter": "python",
   "pygments_lexer": "ipython3",
   "version": "3.9.12"
  },
  "orig_nbformat": 4,
  "vscode": {
   "interpreter": {
    "hash": "0d4602a866995b912897f3ab2b391c835cc84a8b3c7f2e2f2cbc6bb32a735295"
   }
  }
 },
 "nbformat": 4,
 "nbformat_minor": 2
}
