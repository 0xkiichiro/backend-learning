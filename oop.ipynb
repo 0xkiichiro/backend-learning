{
 "cells": [
  {
   "cell_type": "code",
   "execution_count": 3,
   "metadata": {},
   "outputs": [
    {
     "name": "stdout",
     "output_type": "stream",
     "text": [
      "-------------------------\n",
      "0xkiichiro\n",
      "developer\n",
      "-------------------------\n"
     ]
    }
   ],
   "source": [
    "print(\"-\"*25)\n",
    "\n",
    "# def print_types(data):\n",
    "#     for i in data:\n",
    "#         print(i, type(i))\n",
    "\n",
    "# test = [122, \"0xkiichiro\", [1,2,3], (1,2,3), {1,2,3}, True, lambda x:x]\n",
    "\n",
    "# print_types(test)\n",
    "\n",
    "# class names start with capital letter\n",
    "class Person:\n",
    "    name = \"0xkiichiro\"\n",
    "    birth_year = 1995\n",
    "\n",
    "# to create a object from this class\n",
    "person1 = Person()\n",
    "person2 = Person()\n",
    "\n",
    "print(person1.name)\n",
    "\n",
    "Person.job = \"developer\"\n",
    "\n",
    "print(person2.job)\n",
    "\n",
    "print(\"-\"*25)"
   ]
  },
  {
   "cell_type": "code",
   "execution_count": 5,
   "metadata": {},
   "outputs": [
    {
     "name": "stdout",
     "output_type": "stream",
     "text": [
      "1995\n",
      "2002\n"
     ]
    }
   ],
   "source": [
    "# class names start with capital letter\n",
    "class Person:\n",
    "    name = \"0xkiichiro\"\n",
    "    birth_year = 1995\n",
    "\n",
    "# to create a object from this class\n",
    "person1 = Person()\n",
    "person2 = Person()\n",
    "\n",
    "person1.location = \"Amsterdam\"\n",
    "person2.birth_year = 2002\n",
    "# this istance takes the value straight from the Person class => class attribute\n",
    "print(person1.birth_year) \n",
    "# overwrites on the initial Person class => instance attribute\n",
    "print(person2.birth_year)"
   ]
  },
  {
   "cell_type": "code",
   "execution_count": 52,
   "metadata": {},
   "outputs": [
    {
     "name": "stdout",
     "output_type": "stream",
     "text": [
      "test\n",
      "0xkiichiro 26\n",
      "oi\n"
     ]
    }
   ],
   "source": [
    "class Person:\n",
    "    company = \"Yuga Labs\"\n",
    "    # must add self in the arguments part of methods in classes and insert the instance name in the arg when firing the fx\n",
    "    @staticmethod\n",
    "    def test():\n",
    "        print(\"test\")\n",
    "    def set_details(self, name, age):\n",
    "        self.name = name\n",
    "        self.age = age\n",
    "    def get_details(self):\n",
    "        print(self.name, self.age)\n",
    "    @staticmethod\n",
    "    def salute():\n",
    "        print(\"oi\")\n",
    "\n",
    "person1 = Person()\n",
    "\n",
    "# => this is not how to fire functions of class instances (methods) we would get an error\n",
    "# person1.test() \n",
    "\n",
    "person1.test()\n",
    "Person.set_details(person1, \"0xkiichiro\", \"26\")\n",
    "Person.get_details(person1)\n",
    "person1.salute()"
   ]
  },
  {
   "cell_type": "code",
   "execution_count": 48,
   "metadata": {},
   "outputs": [
    {
     "data": {
      "text/plain": [
       "27"
      ]
     },
     "execution_count": 48,
     "metadata": {},
     "output_type": "execute_result"
    }
   ],
   "source": [
    "from datetime import date\n",
    "\n",
    "class Person:\n",
    "    birth_year = 1995\n",
    "    def calculate_age(self):\n",
    "        return date.today().year - Person.birth_year\n",
    "\n",
    "person1 = Person()\n",
    "Person.calculate_age(person1)\n",
    "\n",
    "\n",
    "#constructor methodları pythonda init olarak geciyor!"
   ]
  },
  {
   "cell_type": "markdown",
   "metadata": {},
   "source": [
    "# Special Methods (init, str)"
   ]
  },
  {
   "cell_type": "code",
   "execution_count": 89,
   "metadata": {},
   "outputs": [
    {
     "name": "stdout",
     "output_type": "stream",
     "text": [
      "0xkiichiro - 23\n"
     ]
    }
   ],
   "source": [
    "class Person:\n",
    "    company = \"Yuga Labs\"\n",
    "    def __init__(self, name, age):\n",
    "        self.name = name\n",
    "        self.age = age\n",
    "    def get_details(self):\n",
    "        return(self.name, self.age)\n",
    "    def __str__(self):\n",
    "        return f\"{self.name} - {self.age}\"\n",
    "\n",
    "# its a constructor method that enables us to write multiple data when creating an instance\n",
    "# if you pass less arguments than it requires it will throw an error\n",
    "person1 = Person(\"0xkiichiro\", 23)\n",
    "person1.get_details()\n",
    "\n",
    "person2 = Person(\"baris\", 26)\n",
    "person2.get_details()\n",
    "person2.__str__()\n",
    "# __str__ method auto runs when we call the instance\n",
    "print(person1)"
   ]
  },
  {
   "cell_type": "markdown",
   "metadata": {},
   "source": [
    "# OOP - 4 Pillars\n",
    "# Encapsulation, Abstraction"
   ]
  },
  {
   "cell_type": "code",
   "execution_count": 113,
   "metadata": {},
   "outputs": [
    {
     "name": "stdout",
     "output_type": "stream",
     "text": [
      "0xkiichiro 26\n",
      "4000\n",
      "4000\n"
     ]
    }
   ],
   "source": [
    "class Person:\n",
    "    company = \"Yuga Labs\"\n",
    "\n",
    "    def __init__(self, name, age):\n",
    "        self.name = name\n",
    "        self.age = age\n",
    "        #just showing id is a priv attribute but every1 can change and reach it\n",
    "        self._id = 5000\n",
    "        #! 👆 Bu id'yi değiştirirsen sıkıntı yaşarsın diyoruz \"_\" kullanarak. id'ye ulaşıp değiştirebiliyoruz.\n",
    "        #showing id is a priv attribute and they cant call it\n",
    "        self.__id = 3000\n",
    "        #! \"__\" kullanarak bu id'yi ulaşılamaz & değiştirilemez yaptık.\n",
    "        \n",
    "    def __str__(self):\n",
    "        return f\"{self.name} - {self.age}\"\n",
    "    def get_details(self):\n",
    "        print(self.name, self.age)\n",
    "\n",
    "person1 = Person(\"0xkiichiro\", 26)\n",
    "person1.get_details()\n",
    "person1._id = 4000\n",
    "person1.__id = 4000\n",
    "print(person1._id)\n",
    "print(person1.__id)"
   ]
  },
  {
   "cell_type": "markdown",
   "metadata": {},
   "source": [
    "# OOP - 4 Pillars\n",
    "# Polymorphism, Inheritance"
   ]
  },
  {
   "cell_type": "code",
   "execution_count": 141,
   "metadata": {},
   "outputs": [
    {
     "ename": "NameError",
     "evalue": "name 'langs' is not defined",
     "output_type": "error",
     "traceback": [
      "\u001b[1;31m---------------------------------------------------------------------------\u001b[0m",
      "\u001b[1;31mNameError\u001b[0m                                 Traceback (most recent call last)",
      "\u001b[1;32mc:\\Users\\0xkiichiro\\Desktop\\backend-learning\\oop.ipynb Hücre 10\u001b[0m in \u001b[0;36m<cell line: 33>\u001b[1;34m()\u001b[0m\n\u001b[0;32m     <a href='vscode-notebook-cell:/c%3A/Users/0xkiichiro/Desktop/backend-learning/oop.ipynb#X12sZmlsZQ%3D%3D?line=29'>30</a>\u001b[0m         \u001b[39msuper\u001b[39m()\u001b[39m.\u001b[39mget_details()\n\u001b[0;32m     <a href='vscode-notebook-cell:/c%3A/Users/0xkiichiro/Desktop/backend-learning/oop.ipynb#X12sZmlsZQ%3D%3D?line=30'>31</a>\u001b[0m         \u001b[39mprint\u001b[39m(\u001b[39mself\u001b[39m\u001b[39m.\u001b[39mpath)\n\u001b[1;32m---> <a href='vscode-notebook-cell:/c%3A/Users/0xkiichiro/Desktop/backend-learning/oop.ipynb#X12sZmlsZQ%3D%3D?line=32'>33</a>\u001b[0m emp1 \u001b[39m=\u001b[39m Employee(\u001b[39m\"\u001b[39;49m\u001b[39mSpongebob\u001b[39;49m\u001b[39m\"\u001b[39;49m, \u001b[39m41\u001b[39;49m, \u001b[39m\"\u001b[39;49m\u001b[39mFS\u001b[39;49m\u001b[39m\"\u001b[39;49m, [\u001b[39m\"\u001b[39;49m\u001b[39mEngrish\u001b[39;49m\u001b[39m\"\u001b[39;49m, \u001b[39m\"\u001b[39;49m\u001b[39mJavaScript\u001b[39;49m\u001b[39m\"\u001b[39;49m, \u001b[39m\"\u001b[39;49m\u001b[39mPython\u001b[39;49m\u001b[39m\"\u001b[39;49m])\n\u001b[0;32m     <a href='vscode-notebook-cell:/c%3A/Users/0xkiichiro/Desktop/backend-learning/oop.ipynb#X12sZmlsZQ%3D%3D?line=33'>34</a>\u001b[0m emp1\u001b[39m.\u001b[39mget_details()\n\u001b[0;32m     <a href='vscode-notebook-cell:/c%3A/Users/0xkiichiro/Desktop/backend-learning/oop.ipynb#X12sZmlsZQ%3D%3D?line=34'>35</a>\u001b[0m emp1\u001b[39m.\u001b[39mdisplay_langs()\n",
      "\u001b[1;32mc:\\Users\\0xkiichiro\\Desktop\\backend-learning\\oop.ipynb Hücre 10\u001b[0m in \u001b[0;36mEmployee.__init__\u001b[1;34m(self, name, age, path, lang)\u001b[0m\n\u001b[0;32m     <a href='vscode-notebook-cell:/c%3A/Users/0xkiichiro/Desktop/backend-learning/oop.ipynb#X12sZmlsZQ%3D%3D?line=22'>23</a>\u001b[0m \u001b[39m#! instead of writing again we can pull the props from the parent via super() method\u001b[39;00m\n\u001b[0;32m     <a href='vscode-notebook-cell:/c%3A/Users/0xkiichiro/Desktop/backend-learning/oop.ipynb#X12sZmlsZQ%3D%3D?line=23'>24</a>\u001b[0m \u001b[39mself\u001b[39m\u001b[39m.\u001b[39mpath \u001b[39m=\u001b[39m path\n\u001b[1;32m---> <a href='vscode-notebook-cell:/c%3A/Users/0xkiichiro/Desktop/backend-learning/oop.ipynb#X12sZmlsZQ%3D%3D?line=24'>25</a>\u001b[0m Lang\u001b[39m.\u001b[39m\u001b[39m__init__\u001b[39m(\u001b[39mself\u001b[39m, langs)\n",
      "\u001b[1;31mNameError\u001b[0m: name 'langs' is not defined"
     ]
    }
   ],
   "source": [
    "class Person:\n",
    "    company = \"Yuga Labs\"\n",
    "\n",
    "    def __init__(self, name, age):\n",
    "        self.name = name\n",
    "        self.age = age\n",
    "    def __str__(self):\n",
    "        return f\"{self.name} - {self.age}\"\n",
    "    def get_details(self):\n",
    "        print(self.name, self.age)\n",
    "\n",
    "class Lang:\n",
    "    def __init__(self, langs):\n",
    "        self.langs = langs\n",
    "    def display_langs(self):\n",
    "        print(self.langs)\n",
    "\n",
    "class Employee(Person, Lang):\n",
    "    def __init__(self, name, age, path, lang):\n",
    "        # self.name = name\n",
    "        # self.age = age\n",
    "        super().__init__(name, age)\n",
    "        #! instead of writing again we can pull the props from the parent via super() method\n",
    "        self.path = path\n",
    "        Lang.__init__(self, langs)\n",
    "        # we overwrite the old method bcuz it wasnt enough, its called polymorphism\n",
    "\n",
    "    def get_details(self):\n",
    "        print(self.name, self.age, self.path)\n",
    "        super().get_details()\n",
    "        print(self.path)\n",
    "\n",
    "emp1 = Employee(\"Spongebob\", 41, \"FS\", [\"Engrish\", \"JavaScript\", \"Python\"])\n",
    "emp1.get_details()\n",
    "emp1.display_langs()\n",
    "print(Employee.mro()) # to see what this class is derived from we use .mro() method"
   ]
  },
  {
   "cell_type": "code",
   "execution_count": 144,
   "metadata": {},
   "outputs": [],
   "source": [
    "# from django.db import models\n",
    "\n",
    "# class Article(models.Model):\n",
    "#     name = models.CharField(max_length=50)\n",
    "#     author = models.CharField(max_length=50)\n",
    "\n",
    "#     class Meta: # best practice to name this class inside another class to config the parent class\n",
    "#         ordering = [\"name\"]"
   ]
  }
 ],
 "metadata": {
  "kernelspec": {
   "display_name": "Python 3.9.12 ('base')",
   "language": "python",
   "name": "python3"
  },
  "language_info": {
   "codemirror_mode": {
    "name": "ipython",
    "version": 3
   },
   "file_extension": ".py",
   "mimetype": "text/x-python",
   "name": "python",
   "nbconvert_exporter": "python",
   "pygments_lexer": "ipython3",
   "version": "3.9.12"
  },
  "orig_nbformat": 4,
  "vscode": {
   "interpreter": {
    "hash": "0d4602a866995b912897f3ab2b391c835cc84a8b3c7f2e2f2cbc6bb32a735295"
   }
  }
 },
 "nbformat": 4,
 "nbformat_minor": 2
}
